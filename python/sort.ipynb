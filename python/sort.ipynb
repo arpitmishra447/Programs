{
 "cells": [
  {
   "cell_type": "code",
   "execution_count": 14,
   "metadata": {},
   "outputs": [
    {
     "name": "stdout",
     "output_type": "stream",
     "text": [
      "[1, 4, 17, 20, 23, 33, 44, 53, 67, 82]\n"
     ]
    }
   ],
   "source": [
    "#bubble sort\n",
    "def bubble(arr):\n",
    "    for i in range(len(arr)-1):\n",
    "        for j in range(len(arr)-1):\n",
    "            if arr[j]>arr[j+1]:\n",
    "                arr[j],arr[j+1]=arr[j+1],arr[j]\n",
    "    return arr\n",
    "print(bubble([67, 44, 82, 17, 20, 33, 23, 4, 53, 1]))"
   ]
  },
  {
   "cell_type": "code",
   "execution_count": 24,
   "metadata": {},
   "outputs": [
    {
     "name": "stdout",
     "output_type": "stream",
     "text": [
      "[1, 67, 82, 44, 20, 33, 23, 17, 53, 4]\n",
      "[1, 4, 82, 67, 44, 33, 23, 20, 53, 17]\n",
      "[1, 4, 17, 82, 67, 44, 33, 23, 53, 20]\n",
      "[1, 4, 17, 20, 82, 67, 44, 33, 53, 23]\n",
      "[1, 4, 17, 20, 23, 82, 67, 44, 53, 33]\n",
      "[1, 4, 17, 20, 23, 33, 82, 67, 53, 44]\n",
      "[1, 4, 17, 20, 23, 33, 44, 82, 67, 53]\n",
      "[1, 4, 17, 20, 23, 33, 44, 53, 82, 67]\n",
      "[1, 4, 17, 20, 23, 33, 44, 53, 67, 82]\n",
      "[1, 4, 17, 20, 23, 33, 44, 53, 67, 82]\n"
     ]
    }
   ],
   "source": [
    "#selection sort\n",
    "def select(arr):\n",
    "    for i in range(len(arr)-1):\n",
    "        for j in range(i,len(arr)):\n",
    "            a=i\n",
    "            min=arr[i]\n",
    "            if arr[j]<min:\n",
    "                min=arr[j]\n",
    "                a=j\n",
    "            arr[i],arr[a]=min,arr[i]\n",
    "    return arr\n",
    "print(select([67, 44, 82, 17, 20, 33, 23, 4, 53, 1]))\n",
    "            \n",
    "        "
   ]
  },
  {
   "cell_type": "code",
   "execution_count": 23,
   "metadata": {},
   "outputs": [
    {
     "name": "stdout",
     "output_type": "stream",
     "text": [
      "[1, 4, 17, 20, 23, 33, 44, 53, 67, 82]\n"
     ]
    }
   ],
   "source": [
    "#insertion sort\n",
    "def insert(arr):\n",
    "    for i in range(1,len(arr)):\n",
    "        for j in range(i,0,-1):\n",
    "            if arr[j]<arr[j-1]:\n",
    "                arr[j],arr[j-1]=arr[j-1],arr[j]\n",
    "    return arr\n",
    "print(insert([67, 44, 82, 17, 20, 33, 23, 4, 53, 1]))\n",
    "            "
   ]
  },
  {
   "cell_type": "code",
   "execution_count": 51,
   "metadata": {},
   "outputs": [
    {
     "name": "stdout",
     "output_type": "stream",
     "text": [
      "[1, 2, 3, 3, 4, 4, 5, 5, 6]\n"
     ]
    }
   ],
   "source": [
    "#merge sort\n",
    "\n",
    "def merge(A,B):\n",
    "    C = []\n",
    "    i, j = 0, 0\n",
    "    while i < len(A) and j < len(B):\n",
    "        if A[i] < B[j]:\n",
    "            C.append(A[i])\n",
    "            i += 1\n",
    "        else:\n",
    "            C.append(B[j])\n",
    "            j += 1\n",
    "    R, r = None, 0\n",
    "    if i < len(A):\n",
    "        R = A\n",
    "        r = i\n",
    "    elif j < len(B):\n",
    "        R = B\n",
    "        r = j\n",
    "    C.extend(R[r:])\n",
    "    return C\n",
    "\n",
    "    \n",
    "def merge_sort(A):\n",
    "    if len(A) <= 1:\n",
    "        return A\n",
    "    mid = len(A)//2\n",
    "    A1 = A[:mid]\n",
    "    A2 = A[mid:]\n",
    "    A1 = merge_sort(A1)\n",
    "    A2 = merge_sort(A2)\n",
    "    S = merge(A1, A2)\n",
    "    return S\n",
    "\n",
    "print(merge_sort([3,2,1, 4, 5,3, 4, 5, 6]))\n",
    "        \n",
    "        \n",
    "    \n",
    "    "
   ]
  },
  {
   "cell_type": "code",
   "execution_count": 32,
   "metadata": {},
   "outputs": [
    {
     "name": "stdout",
     "output_type": "stream",
     "text": [
      "[0, 0, 0, 0, 1, 1, 1, 1, 1, 1, 1, 1, 2, 2, 2, 2, 2]\n"
     ]
    }
   ],
   "source": [
    "#dutch flag problem\n",
    "def dnf(arr):\n",
    "    s,mid,e=0,0,len(arr)-1\n",
    "    while mid<=e:\n",
    "        if arr[mid]==0:\n",
    "            arr[s],arr[mid]=arr[mid],arr[s]\n",
    "            mid+=1\n",
    "            s+=1\n",
    "        elif arr[mid]==2:\n",
    "            arr[e],arr[mid]=arr[mid],arr[e]\n",
    "            e-=1\n",
    "        elif arr[mid]==1:\n",
    "            mid+=1\n",
    "    return arr\n",
    "print(dnf([0,1,0,2,2,2,1,1,1,1,2,0,1,1,1,2,0]))\n",
    "            "
   ]
  },
  {
   "cell_type": "code",
   "execution_count": 49,
   "metadata": {},
   "outputs": [
    {
     "name": "stdout",
     "output_type": "stream",
     "text": [
      "low 1 high 6\n",
      "max profit 5\n",
      "low 2 high 10\n",
      "max profit 8\n",
      "low 5 high 100\n",
      "max profit 95\n"
     ]
    }
   ],
   "source": [
    "#stock problem\n",
    "def mprofit(arr):\n",
    "    l,h=arr[0],arr[len(arr)-1]\n",
    "    p1,p2=0,len(arr)-1\n",
    "    while p1<p2:\n",
    "        if arr[p1]<=l:\n",
    "            l=arr[p1]\n",
    "            p1+=1\n",
    "        else:\n",
    "            p1+=1\n",
    "        if arr[p2]>=h:\n",
    "            h=arr[p2]\n",
    "            p2-=1\n",
    "        else:\n",
    "            p2-=1\n",
    "    print(f\"low {l} high {h}\")    \n",
    "    return h-l\n",
    "arr=[[3,2,1, 4, 5,3, 4, 5, 6],[100,2,3,4,2,4,5,9,10,0,5],[20,5,45,77,8,12,33,100,2]]\n",
    "for i in arr:\n",
    "    print(f\"max profit {mprofit(i)}\")\n",
    "            "
   ]
  },
  {
   "cell_type": "code",
   "execution_count": 52,
   "metadata": {},
   "outputs": [],
   "source": [
    "#quick sort\n"
   ]
  },
  {
   "cell_type": "code",
   "execution_count": null,
   "metadata": {},
   "outputs": [],
   "source": [
    "# L is a positive integer that has already been defined at this stage\n",
    "word = input()\n",
    "space = ' ' # there is a single space\n",
    "if len(word) < L:\n",
    "    word = 'short' + space + word\n",
    "elif L <= len(word) < 2 * L:\n",
    "    word = 'medium' + space + word\n",
    "else:\n",
    "    word = 'long' + space + word\n",
    "print(word)"
   ]
  },
  {
   "cell_type": "code",
   "execution_count": null,
   "metadata": {},
   "outputs": [],
   "source": []
  }
 ],
 "metadata": {
  "kernelspec": {
   "display_name": "Python 3",
   "language": "python",
   "name": "python3"
  },
  "language_info": {
   "codemirror_mode": {
    "name": "ipython",
    "version": 3
   },
   "file_extension": ".py",
   "mimetype": "text/x-python",
   "name": "python",
   "nbconvert_exporter": "python",
   "pygments_lexer": "ipython3",
   "version": "3.12.7"
  }
 },
 "nbformat": 4,
 "nbformat_minor": 2
}
