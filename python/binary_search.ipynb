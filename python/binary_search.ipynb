{
 "cells": [
  {
   "cell_type": "code",
   "execution_count": 5,
   "metadata": {},
   "outputs": [
    {
     "name": "stdout",
     "output_type": "stream",
     "text": [
      "6\n"
     ]
    }
   ],
   "source": [
    "#binary search\n",
    "def bin(arr,a):\n",
    "    l=0\n",
    "    r=len(arr)-1\n",
    "    while l<=r:\n",
    "        mid=(l+r)//2\n",
    "        if a>arr[mid]:\n",
    "            l=mid+1\n",
    "        elif a<arr[mid]:\n",
    "            r=mid-1\n",
    "        else:\n",
    "            return mid\n",
    "    else:\n",
    "        return -1\n",
    "    \n",
    "a=[1,2,3,4,5,6,8]\n",
    "print(bin(a,8))\n",
    "                    "
   ]
  },
  {
   "cell_type": "code",
   "execution_count": 9,
   "metadata": {},
   "outputs": [
    {
     "name": "stdout",
     "output_type": "stream",
     "text": [
      "70.71067811865476\n"
     ]
    }
   ],
   "source": [
    "#sqroot\n",
    "def sq(a):\n",
    "    l=0\n",
    "    r=a\n",
    "    e=a\n",
    "    \n",
    "    while e>10**(-20):\n",
    "        mid=(l+r)/2\n",
    "        s=mid*mid\n",
    "        e=abs(s-a)\n",
    "        if s<a:\n",
    "            l=mid\n",
    "        elif s>a:\n",
    "            r=mid\n",
    "        else:\n",
    "            return mid\n",
    "    else:\n",
    "        return mid\n",
    "print(sq(5000))"
   ]
  },
  {
   "cell_type": "code",
   "execution_count": 12,
   "metadata": {},
   "outputs": [
    {
     "name": "stdout",
     "output_type": "stream",
     "text": [
      "0 10\n"
     ]
    }
   ],
   "source": [
    "#first and last occurance\n",
    "def first(arr,k):\n",
    "    s=0\n",
    "    e=len(arr)-1\n",
    "    res=-1\n",
    "    while s<=e:\n",
    "        mid=(s+e)//2\n",
    "        if k<arr[mid]:\n",
    "            e=mid-1\n",
    "        elif k>arr[mid]:\n",
    "            s=mid+1\n",
    "        else:\n",
    "            res=mid\n",
    "            e=mid-1\n",
    "    return res\n",
    "def last(arr,k):\n",
    "    s=0\n",
    "    e=len(arr)-1\n",
    "    res=-1\n",
    "    while s<=e:\n",
    "        mid=(s+e)//2\n",
    "        if k<arr[mid]:\n",
    "            e=mid-1\n",
    "        elif k>arr[mid]:\n",
    "            s=mid+1\n",
    "        else:\n",
    "            res=mid\n",
    "            s=mid+1\n",
    "    return res\n",
    "a=[5,5,5,5,5,5,5,5,5,5,5,]\n",
    "val=5\n",
    "print(first(a,val),last(a,val))"
   ]
  },
  {
   "cell_type": "code",
   "execution_count": 34,
   "metadata": {},
   "outputs": [
    {
     "name": "stdout",
     "output_type": "stream",
     "text": [
      "4\n",
      "2\n",
      "0\n",
      "3\n"
     ]
    }
   ],
   "source": [
    "#0s start\n",
    "def z(arr):\n",
    "    l=0\n",
    "    r=len(arr)-1\n",
    "    res=-1\n",
    "    while l<=r:\n",
    "        mid=(l+r)//2\n",
    "        if arr[r]==0:\n",
    "            return r+1\n",
    "        elif arr[0]==1:\n",
    "            return l\n",
    "        elif arr[mid]==0:\n",
    "            l=mid+1\n",
    "        else:\n",
    "            if arr[mid-1]==0:    \n",
    "                res=mid\n",
    "                r=mid-1\n",
    "            else:\n",
    "                break\n",
    "    return res\n",
    "a=[[0,0,0,0,1,1],[0,0,1,1],[1,1,1],[0,0,0]]\n",
    "for i in a:\n",
    "    print(z(i))\n",
    "\n",
    "            \n",
    "            \n",
    "            "
   ]
  },
  {
   "cell_type": "code",
   "execution_count": 33,
   "metadata": {},
   "outputs": [
    {
     "name": "stdout",
     "output_type": "stream",
     "text": [
      "3.0\n"
     ]
    }
   ],
   "source": [
    "#eqn solve\n",
    "def eqn(a):\n",
    "    l=0\n",
    "    r=a\n",
    "    e=a\n",
    "    while e>10**(-20):\n",
    "        mid=(l+r)/2\n",
    "        s=(2**mid)+mid\n",
    "        e=abs(s-a)\n",
    "        if s<a:\n",
    "            l=mid\n",
    "        elif s>a:\n",
    "            r=mid\n",
    "        else:\n",
    "            return mid\n",
    "    else:\n",
    "        return mid\n",
    "print(eqn(11))"
   ]
  },
  {
   "cell_type": "code",
   "execution_count": 64,
   "metadata": {},
   "outputs": [
    {
     "name": "stdout",
     "output_type": "stream",
     "text": [
      "5\n",
      "0\n",
      "11\n"
     ]
    }
   ],
   "source": [
    "def missing(arr):\n",
    "    s=0\n",
    "    e=len(arr)\n",
    "    while s<=e:\n",
    "        \n",
    "        mid=(s+e)//2\n",
    "        d=arr[mid]-(arr[mid-1])\n",
    "        if mid==arr[mid]:\n",
    "            s=mid\n",
    "        else:\n",
    "            if d==1:\n",
    "                e=mid\n",
    "            else:\n",
    "                return arr[mid]-1   \n",
    "    else:\n",
    "        return -1\n",
    "a=[[0,1,2,3,4,6],[1,2,3,4],[0,1,2,3,4,5,6,7,8,9,10,12]]\n",
    "for i in a:\n",
    "    print(missing(i))"
   ]
  },
  {
   "cell_type": "code",
   "execution_count": 56,
   "metadata": {},
   "outputs": [
    {
     "name": "stdout",
     "output_type": "stream",
     "text": [
      "6\n",
      "3\n",
      "2\n",
      "0\n"
     ]
    }
   ],
   "source": [
    "def first(arr,k):\n",
    "    s=0\n",
    "    e=len(arr)-1\n",
    "    res=-1\n",
    "    while s<=e:\n",
    "        mid=(s+e)//2\n",
    "        if k<arr[mid]:\n",
    "            e=mid-1\n",
    "        elif k>arr[mid]:\n",
    "            s=mid+1\n",
    "        else:\n",
    "            res=mid\n",
    "            e=mid-1\n",
    "    return res\n",
    "def last(arr,k):\n",
    "    s=0\n",
    "    e=len(arr)-1\n",
    "    res=-1\n",
    "    while s<=e:\n",
    "        mid=(s+e)//2\n",
    "        if k<arr[mid]:\n",
    "            e=mid-1\n",
    "        elif k>arr[mid]:\n",
    "            s=mid+1\n",
    "        else:\n",
    "            res=mid\n",
    "            s=mid+1\n",
    "    return res\n",
    "a=[[0,0,0,0,1,1,2,2],[1,1,1],[0,0,1,1],[0,0,0]]\n",
    "for i in a:\n",
    "    s=0\n",
    "    if first(i,1)!=-1:\n",
    "        start1,end1=first(i,1),last(i,1)\n",
    "        s+=(end1-start1)+1\n",
    "    if first(i,2)!=-1:\n",
    "        start2,end2=first(i,2),last(i,2)\n",
    "        s+=((end2-start2)+1)*2\n",
    "    print(s)\n",
    "\n",
    "    "
   ]
  },
  {
   "cell_type": "code",
   "execution_count": 60,
   "metadata": {},
   "outputs": [
    {
     "name": "stdout",
     "output_type": "stream",
     "text": [
      "[0, 0, 0, 0, 0, 0, 1, 1, 1, 1, 1, 1]\n"
     ]
    }
   ],
   "source": [
    "#dutch flag problem\n",
    "def flag(arr):\n",
    "    i,j=0,len(arr)-1\n",
    "    while i<=j:\n",
    "        if arr[i]==0:\n",
    "            i+=1\n",
    "            continue\n",
    "        if arr[j]==1:\n",
    "            j-=1\n",
    "            continue\n",
    "        arr[i],arr[j]=arr[j],arr[i]\n",
    "        i+=1\n",
    "        j-=1\n",
    "    return arr\n",
    "\n",
    "print(flag([1,0,0,1,0,1,1,1,0,0,0,1]))"
   ]
  },
  {
   "cell_type": "code",
   "execution_count": 65,
   "metadata": {},
   "outputs": [
    {
     "name": "stdout",
     "output_type": "stream",
     "text": [
      "[0, 0, 0, 1, 0, 1, 1, 2, 2, 1]\n"
     ]
    }
   ],
   "source": [
    "def flag(arr):\n",
    "    i,j=0,len(arr)-1\n",
    "    while i<=j:\n",
    "        if arr[i]==0:\n",
    "            i+=1\n",
    "            continue\n",
    "        if arr[j]==2:\n",
    "            j-=1\n",
    "            continue\n",
    "        arr[i],arr[j]=arr[j],arr[i]\n",
    "        i+=1\n",
    "        j-=1\n",
    "    return arr\n",
    "print(flag([0,1,0,2,0,1,1,1,2,0]))"
   ]
  },
  {
   "cell_type": "code",
   "execution_count": null,
   "metadata": {},
   "outputs": [],
   "source": []
  }
 ],
 "metadata": {
  "kernelspec": {
   "display_name": "Python 3",
   "language": "python",
   "name": "python3"
  },
  "language_info": {
   "codemirror_mode": {
    "name": "ipython",
    "version": 3
   },
   "file_extension": ".py",
   "mimetype": "text/x-python",
   "name": "python",
   "nbconvert_exporter": "python",
   "pygments_lexer": "ipython3",
   "version": "3.12.7"
  }
 },
 "nbformat": 4,
 "nbformat_minor": 2
}
